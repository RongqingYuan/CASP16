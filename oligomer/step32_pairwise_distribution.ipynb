{
 "cells": [
  {
   "cell_type": "code",
   "execution_count": 41,
   "metadata": {},
   "outputs": [],
   "source": [
    "import os\n",
    "import pandas as pd\n",
    "from collections import Counter\n",
    "import re\n",
    "pd.set_option('display.expand_frame_repr', False)\n",
    "pd.set_option('display.max_columns', None)\n",
    "\n",
    "pd.set_option('display.max_rows', 100)\n",
    "pd.set_option('display.max_columns', 100)\n",
    "pd.set_option('display.width', 1000)"
   ]
  },
  {
   "cell_type": "code",
   "execution_count": 42,
   "metadata": {},
   "outputs": [],
   "source": [
    "bg_file = \"/home2/s439906/project/CASP16/oligomer/3_stoichiometry/stoich_bg_distribution.csv\"\n"
   ]
  },
  {
   "cell_type": "code",
   "execution_count": null,
   "metadata": {},
   "outputs": [],
   "source": [
    "# 读取 CSV 文件\n",
    "data = pd.read_csv(bg_file)\n",
    "\n",
    "# 提取和统计整数信息，并将不同字母前缀的整数视为等价\n",
    "molecule_counts = Counter()\n",
    "for _, row in data.iterrows():\n",
    "    entry = row['stoichiometry']\n",
    "    count = row['count']\n",
    "    molecules = entry.split(\", \")\n",
    "    for molecule in molecules:\n",
    "        # 仅提取整数部分并统计（如 A1 和 C1 视为等价，按 count 列的值累加）\n",
    "        match = re.search(r'\\d+', molecule)\n",
    "        if match:\n",
    "            molecule_counts[int(match.group())] += count\n",
    "\n",
    "# 转换为 DataFrame 并显示结果\n",
    "molecule_counts_df = pd.DataFrame(molecule_counts.items(), columns=['Integer', 'Count'])\n",
    "print(\"整数信息统计（不同字母前缀的整数视为等价，按 count 列的值累加）：\")\n",
    "# print(molecule_counts_df)\n",
    "\n",
    "\n"
   ]
  },
  {
   "cell_type": "code",
   "execution_count": null,
   "metadata": {},
   "outputs": [],
   "source": [
    "import pandas as pd\n",
    "from collections import Counter\n",
    "import re\n",
    "from itertools import combinations\n",
    "\n",
    "# 读取 CSV 文件\n",
    "data = pd.read_csv(bg_file)\n",
    "\n",
    "# 提取和统计所有pairwise的整数信息\n",
    "pairwise_counts = Counter()\n",
    "for _, row in data.iterrows():\n",
    "    entry = row['stoichiometry']\n",
    "    count = row['count']\n",
    "    molecules = entry.split(\", \")\n",
    "    # 提取整数部分\n",
    "    integers = [re.search(r'\\d+', molecule).group() for molecule in molecules if re.search(r'\\d+', molecule)]\n",
    "    if 1 < len(integers) <= 10:\n",
    "        for pair in combinations(sorted(integers, reverse=True), 2):\n",
    "            pairwise_counts[pair] += count\n",
    "\n",
    "# 转换为 DataFrame 并显示结果\n",
    "pairwise_counts_df = pd.DataFrame(pairwise_counts.items(), columns=['Pair', 'Count'])\n",
    "print(\"Pairwise 整数信息统计：\")\n",
    "print(pairwise_counts_df)\n"
   ]
  },
  {
   "cell_type": "code",
   "execution_count": null,
   "metadata": {},
   "outputs": [],
   "source": [
    "import pandas as pd\n",
    "from collections import Counter\n",
    "import re\n",
    "from itertools import combinations\n",
    "from math import gcd\n",
    "\n",
    "# 读取 CSV 文件\n",
    "data = pd.read_csv(bg_file)\n",
    "\n",
    "# 提取和统计所有pairwise的整数信息\n",
    "pairwise_counts = Counter()\n",
    "for _, row in data.iterrows():\n",
    "    entry = row['stoichiometry']\n",
    "    count = row['count']\n",
    "    molecules = entry.split(\", \")\n",
    "    # 提取整数部分\n",
    "    integers = [re.search(r'\\d+', molecule).group() for molecule in molecules if re.search(r'\\d+', molecule)]\n",
    "    if 1 < len(integers) <= 10:\n",
    "        for pair in combinations(sorted(integers, reverse=True), 2):\n",
    "            pairwise_counts[pair] += count\n",
    "\n",
    "# 转换为 DataFrame\n",
    "pairwise_counts_df = pd.DataFrame(pairwise_counts.items(), columns=['Pair', 'Count'])\n",
    "\n",
    "# 处理比例，将等价的组合合并，只在互质情况下保留原值\n",
    "normalized_pairwise_counts = Counter()\n",
    "for (a, b), count in pairwise_counts.items():\n",
    "    a, b = int(a), int(b)\n",
    "    common_divisor = gcd(a, b)\n",
    "    if common_divisor > 1:\n",
    "        normalized_pair = tuple(sorted((a // common_divisor, b // common_divisor), reverse=True))\n",
    "    else:\n",
    "        normalized_pair = tuple(sorted((a, b), reverse=True))\n",
    "    normalized_pairwise_counts[normalized_pair] += count\n",
    "\n",
    "# 转换为 DataFrame 并显示结果\n",
    "normalized_pairwise_counts_df = pd.DataFrame(normalized_pairwise_counts.items(), columns=['Pair', 'Count'])\n",
    "print(\"Normalized Pairwise 整数信息统计：\")\n",
    "print(normalized_pairwise_counts_df)\n"
   ]
  },
  {
   "cell_type": "code",
   "execution_count": null,
   "metadata": {},
   "outputs": [],
   "source": [
    "total_count_pair = sum(normalized_pairwise_counts_df['Count'])\n",
    "normalized_pairwise_counts_df['Count'] /= total_count_pair\n",
    "normalized_pairwise_counts_df.set_index('Pair', inplace=True)\n",
    "# convert every element in index to string\n",
    "normalized_pairwise_counts_df.index = normalized_pairwise_counts_df.index.map(lambda x: tuple(map(str, x)))\n",
    "normalized_pairwise_counts_df"
   ]
  },
  {
   "cell_type": "code",
   "execution_count": null,
   "metadata": {},
   "outputs": [],
   "source": [
    "total_count_molecule = sum(molecule_counts_df['Count'])\n",
    "molecule_counts_df['Count'] /= total_count_molecule\n",
    "# set Integer as index\n",
    "molecule_counts_df.set_index('Integer', inplace=True)\n",
    "molecule_counts_df.index = molecule_counts_df.index.map(str)\n",
    "molecule_counts_df"
   ]
  },
  {
   "cell_type": "code",
   "execution_count": null,
   "metadata": {},
   "outputs": [],
   "source": [
    "stoichiometry_dir = \"/data/data1/conglab/jzhan6/CASP16/CASP16_scores/oligo_20240910/firstmodels/\"\n",
    "stoichiometry_files = [file for file in os.listdir(stoichiometry_dir) if file.endswith('.stoichiometry')]\n",
    "# sort files alphabetically\n",
    "stoichiometry_files.sort()\n",
    "stoichiometry_files.__len__()"
   ]
  },
  {
   "cell_type": "code",
   "execution_count": null,
   "metadata": {},
   "outputs": [],
   "source": [
    "for file in stoichiometry_files:\n",
    "    file = os.path.join(stoichiometry_dir, file)\n",
    "    data = pd.read_csv(file, sep='\\t')\n",
    "    data['group_info'] = data['model'].str.extract(r'(TS\\d{3})')\n",
    "data"
   ]
  },
  {
   "cell_type": "code",
   "execution_count": null,
   "metadata": {},
   "outputs": [],
   "source": [
    "def extract_single_and_pairwise_combinations(column):\n",
    "    single_numbers = [int(n) for n in re.findall(r'\\d+', column)]\n",
    "    pairwise_combinations = []\n",
    "    for a, b in combinations(single_numbers, 2):\n",
    "        if a == 0 or b == 0:\n",
    "            pairwise_combinations.append((max(a, b), 0))  \n",
    "        else:\n",
    "            common_divisor = gcd(a, b)\n",
    "            reduced_pair = (a // common_divisor, b // common_divisor)\n",
    "            pairwise_combinations.append((max(reduced_pair), min(reduced_pair)))\n",
    "    return single_numbers, pairwise_combinations\n",
    "\n",
    "def calculate_single_scores(single_list, probability_df):\n",
    "    return [1 - probability_df.loc[str(n), 'Count'] if str(n) in probability_df.index else 0 for n in single_list]\n",
    "\n",
    "def calculate_pairwise_scores(pairwise_list, probability_df):\n",
    "    return [1 - probability_df.loc[tuple(sorted(map(str, pair), reverse=True)), 'Count'] if tuple(sorted(map(str, pair), reverse=True)) in probability_df.index else 0 for pair in pairwise_list]\n",
    "\n",
    "def calculate_combined_single_score(stoi_single, truth_single, truth_single_scores):\n",
    "    combined_score = 0\n",
    "    for i, num in enumerate(truth_single):\n",
    "        if num in stoi_single:\n",
    "            combined_score += truth_single_scores[i]\n",
    "    return combined_score\n",
    "\n",
    "def calculate_combined_pairwise_score(stoi_pairwise, truth_pairwise, truth_pairwise_scores):\n",
    "    combined_score = 0\n",
    "    for i, pair in enumerate(truth_pairwise):\n",
    "        if pair in stoi_pairwise:\n",
    "            combined_score += truth_pairwise_scores[i]\n",
    "    return combined_score\n",
    "\n",
    "\n",
    "score_all = None\n",
    "for file in stoichiometry_files:\n",
    "    file_abs = os.path.join(stoichiometry_dir, file)\n",
    "    data = pd.read_csv(file_abs, sep='\\t')\n",
    "    data['group_info'] = data['model'].str.extract(r'(TS\\d{3})')\n",
    "    data['stoi_single'] = data['stoi'].apply(lambda x: extract_single_and_pairwise_combinations(x)[0])\n",
    "    data['stoi_pairwise'] = data['stoi'].apply(lambda x: extract_single_and_pairwise_combinations(x)[1])\n",
    "    data['truth_single'] = data['truth'].apply(lambda x: extract_single_and_pairwise_combinations(x)[0])\n",
    "    data['truth_pairwise'] = data['truth'].apply(lambda x: extract_single_and_pairwise_combinations(x)[1])\n",
    "    data['truth_single_scores'] = data['truth_single'].apply(lambda x: calculate_single_scores(x, molecule_counts_df))\n",
    "    data['truth_pairwise_scores'] = data['truth_pairwise'].apply(lambda x: calculate_pairwise_scores(x, normalized_pairwise_counts_df))\n",
    "    data['score_single'] = data.apply(lambda row: calculate_combined_single_score(row['stoi_single'], row['truth_single'], row['truth_single_scores']), axis=1)\n",
    "    data['score_pairwise'] = data.apply(lambda row: calculate_combined_pairwise_score(row['stoi_pairwise'], row['truth_pairwise'], row['truth_pairwise_scores']), axis=1)\n",
    "    data['sum_score'] = data['score_single'] + data['score_pairwise']\n",
    "    # print(data[['model', 'stoi', 'truth', 'stoi_single', 'stoi_pairwise', 'truth_single', 'truth_pairwise', 'truth_single_scores', 'truth_pairwise_scores', 'score_single', 'score_pairwise', 'sum_score']])\n",
    "    # get group_info and sum_score, and change sum_score name to file.split('.')[-1]\n",
    "    result = data[['group_info', 'sum_score']]\n",
    "    result.columns = ['group_info', file.split('.')[0]]\n",
    "    # set group_info as index\n",
    "    result.set_index('group_info', inplace=True)\n",
    "    print(result)\n",
    "    if score_all is None:\n",
    "        score_all = result\n",
    "    else:\n",
    "        # merge result to score_all\n",
    "        score_all = pd.concat([score_all, result], axis=1)\n"
   ]
  },
  {
   "cell_type": "code",
   "execution_count": null,
   "metadata": {},
   "outputs": [],
   "source": [
    "score_all\n",
    "# sum and sort by sum\n",
    "score_all['sum'] = score_all.sum(axis=1)\n",
    "score_all.sort_values(by='sum', ascending=False, inplace=True)\n",
    "score_all\n"
   ]
  },
  {
   "cell_type": "code",
   "execution_count": null,
   "metadata": {},
   "outputs": [],
   "source": [
    "normalized_pairwise_counts_df.loc[('2', '1'), 'Count']"
   ]
  },
  {
   "cell_type": "code",
   "execution_count": null,
   "metadata": {},
   "outputs": [],
   "source": [
    "# plot  sum_score as bar plot\n",
    "import matplotlib.pyplot as plt\n",
    "plt.figure(figsize=(18, 6))\n",
    "plt.bar(score_all.index, score_all['sum'])\n",
    "plt.xticks(rotation=45, ha='right', fontsize=10)\n",
    "plt.yticks(fontsize=14)\n",
    "plt.xlabel('Group', fontsize=16)\n",
    "plt.ylabel('Sum Score', fontsize=16)\n",
    "plt.title('stoichiometry score', fontsize=20)\n",
    "plt.show()\n"
   ]
  }
 ],
 "metadata": {
  "kernelspec": {
   "display_name": "base",
   "language": "python",
   "name": "python3"
  },
  "language_info": {
   "codemirror_mode": {
    "name": "ipython",
    "version": 3
   },
   "file_extension": ".py",
   "mimetype": "text/x-python",
   "name": "python",
   "nbconvert_exporter": "python",
   "pygments_lexer": "ipython3",
   "version": "3.8.3"
  }
 },
 "nbformat": 4,
 "nbformat_minor": 2
}
