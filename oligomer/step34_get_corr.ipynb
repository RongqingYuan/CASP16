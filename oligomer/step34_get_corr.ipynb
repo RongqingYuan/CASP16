{
 "cells": [
  {
   "cell_type": "code",
   "execution_count": null,
   "metadata": {},
   "outputs": [],
   "source": [
    "import os\n",
    "import matplotlib.pyplot as plt\n",
    "import pandas as pd\n",
    "import sys\n",
    "import pdb\n",
    "import seaborn as sns\n",
    "import numpy as np\n",
    "\n",
    "pd.set_option('display.max_rows', 100)\n",
    "pd.set_option('display.max_columns', 100)\n",
    "pd.set_option('display.width', 1000)\n",
    "pd.set_option('display.max_columns', None)\n",
    "pd.set_option('display.expand_frame_repr', False)\n",
    "\n",
    "# measure = \"GDT_TS\"\n",
    "# measure = \"GDT_HA\"\n",
    "# measure = \"qs_global\"\n",
    "measures = [\"qs_global\",\n",
    "            #  \"qs_best\",\n",
    "               \"ics\",\n",
    "                 \"ips\",\n",
    "                   \"dockq_ave\",\n",
    "                     \"tm_score\", \n",
    "                     \"lddt\"]\n",
    "\n",
    "# model = \"first\"\n",
    "model = \"best\"\n",
    "# mode = \"easy\"\n",
    "# mode = \"medium\"\n",
    "# mode = \"hard\"\n",
    "mode = \"all\"\n",
    "impute_value = -2\n",
    "os.chdir('/home2/s439906/project/CASP16/oligomer/')\n",
    "raw_path = \"./group_by_target_EU_new/\"\n",
    "sum_df = None\n",
    "for measure in measures:\n",
    "    file = f\"{measure}-{model}-{mode}-impute={impute_value}_raw.csv\"\n",
    "    df = pd.read_csv(raw_path + file, index_col=0)\n",
    "    # remove the rows with more than 50% missing values\n",
    "    df = df.dropna(thresh=df.shape[1] * 100 / 100)\n",
    "\n",
    "    sum = df.sum(axis=1)\n",
    "    # change the column name to measure\n",
    "    sum.rename(measure, inplace=True)\n",
    "    if sum_df is None:\n",
    "        sum_df = sum\n",
    "    else:\n",
    "        sum_df = pd.concat([sum_df, sum], axis=1)\n",
    "sum_df\n"
   ]
  },
  {
   "cell_type": "code",
   "execution_count": null,
   "metadata": {},
   "outputs": [],
   "source": [
    "# get pairwise scatter plot\n",
    "sns.pairplot(sum_df)"
   ]
  },
  {
   "cell_type": "code",
   "execution_count": null,
   "metadata": {},
   "outputs": [],
   "source": [
    "result_dir = \"/data/data1/conglab/jzhan6/CASP16/targetPDBs/Targets_oligo_interfaces_20240917/model_results/\"\n",
    "result_files = [file for file in os.listdir(result_dir) if file.startswith(\"T1\") or file.startswith(\"H1\")]\n",
    "result_files"
   ]
  },
  {
   "cell_type": "code",
   "execution_count": null,
   "metadata": {},
   "outputs": [],
   "source": [
    "data_all = None\n",
    "for result_file in result_files:\n",
    "    print(\"Processing {}\".format(result_file))\n",
    "    result_path = result_dir+ result_file\n",
    "    data_tmp = pd.read_csv(result_path, sep=\"\\t\", index_col=0)\n",
    "    data_tmp = data_tmp.replace(\"-\", np.nan)\n",
    "    if data_all is None:\n",
    "        data_all = data_tmp\n",
    "    else:\n",
    "        data_all = pd.concat([data_all, data_tmp], axis=0)\n",
    "# get the columns in measures\n",
    "measures = [\"qs_global\",\n",
    "            #  \"qs_best\",\n",
    "               \"ics\",\n",
    "                 \"ips\",\n",
    "                   \"dockq_ave\",\n",
    "                     \"tm_score\", \n",
    "                     \"lddt\"]\n",
    "data_all = data_all[measures]\n",
    "data_all.isna().sum()\n",
    "# remove the rows with any nan\n",
    "data_all = data_all.dropna()\n",
    "# convert the data type to float\n",
    "data_all = data_all.astype(float)"
   ]
  },
  {
   "cell_type": "code",
   "execution_count": null,
   "metadata": {},
   "outputs": [],
   "source": [
    "sns.pairplot(data_all, plot_kws={'s': 10})\n"
   ]
  },
  {
   "cell_type": "code",
   "execution_count": null,
   "metadata": {},
   "outputs": [],
   "source": [
    "# draw a correlation heatmap\n",
    "corr = data_all.corr()\n",
    "sns.heatmap(corr, annot=True, fmt=\".2f\", square=True, cmap='coolwarm')\n",
    "plt.show()"
   ]
  },
  {
   "cell_type": "code",
   "execution_count": null,
   "metadata": {},
   "outputs": [],
   "source": [
    "\n",
    "score_path = \"./heatmap_interface/\"\n",
    "score_file = f\"heatmap_custom_{model}_{mode}_impute={impute_value}_equal_weight.csv\"\n",
    "df = pd.read_csv(score_path + score_file, index_col=0)\n"
   ]
  },
  {
   "cell_type": "code",
   "execution_count": null,
   "metadata": {},
   "outputs": [],
   "source": [
    "import seaborn as sns\n",
    "import matplotlib.pyplot as plt\n",
    "import numpy as np\n",
    "\n",
    "def correlation_scatter_pairplot(data):\n",
    "    # 创建 PairGrid 对象\n",
    "    g = sns.PairGrid(data)\n",
    "    \n",
    "    # 下三角部分绘制散点图\n",
    "    g.map_lower(sns.scatterplot)\n",
    "    \n",
    "    # 上三角部分绘制相关系数\n",
    "    def corrplot(x, y, **kws):\n",
    "        corr = np.corrcoef(x, y)[0, 1]\n",
    "        ax = plt.gca()\n",
    "        ax.annotate(f'{corr:.2f}', \n",
    "                    xy=(0.5, 0.5), \n",
    "                    xycoords=ax.transAxes,\n",
    "                    ha='center', \n",
    "                    va='center',\n",
    "                    fontsize=12,\n",
    "                    fontweight='bold',\n",
    "                    color='red')\n",
    "    \n",
    "    g.map_upper(corrplot)\n",
    "    \n",
    "    # 对角线部分绘制直方图\n",
    "    g.map_diag(sns.histplot, kde=True)\n",
    "\n",
    "# 使用示例\n",
    "correlation_scatter_pairplot(data_all)\n"
   ]
  },
  {
   "cell_type": "code",
   "execution_count": null,
   "metadata": {},
   "outputs": [],
   "source": [
    "import seaborn as sns\n",
    "import matplotlib.pyplot as plt\n",
    "import numpy as np\n",
    "\n",
    "def correlation_scatter_pairplot(data):\n",
    "    # 创建 PairGrid 对象\n",
    "    g = sns.PairGrid(data)\n",
    "    \n",
    "    # 下三角部分绘制散点图\n",
    "    g.map_lower(sns.scatterplot)\n",
    "    \n",
    "    # 上三角部分绘制相关系数\n",
    "    def corrplot(x, y, **kws):\n",
    "        corr = np.corrcoef(x, y)[0, 1]\n",
    "        ax = plt.gca()\n",
    "        ax.annotate(f'{corr:.2f}', \n",
    "                    xy=(0.5, 0.5), \n",
    "                    xycoords=ax.transAxes,\n",
    "                    ha='center', \n",
    "                    va='center',\n",
    "                    fontsize=12,\n",
    "                    fontweight='bold',\n",
    "                    color='red')\n",
    "    \n",
    "    g.map_upper(corrplot)\n",
    "    \n",
    "    # 对角线部分绘制分布直方图\n",
    "    g.map_diag(sns.distplot, kde=True)\n",
    "\n",
    "# 使用示例\n",
    "correlation_scatter_pairplot(data_all)\n"
   ]
  }
 ],
 "metadata": {
  "kernelspec": {
   "display_name": "base",
   "language": "python",
   "name": "python3"
  },
  "language_info": {
   "codemirror_mode": {
    "name": "ipython",
    "version": 3
   },
   "file_extension": ".py",
   "mimetype": "text/x-python",
   "name": "python",
   "nbconvert_exporter": "python",
   "pygments_lexer": "ipython3",
   "version": "3.8.3"
  }
 },
 "nbformat": 4,
 "nbformat_minor": 2
}
