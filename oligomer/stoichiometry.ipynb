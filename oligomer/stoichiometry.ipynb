{
 "cells": [
  {
   "cell_type": "code",
   "execution_count": null,
   "metadata": {},
   "outputs": [],
   "source": [
    "import re\n",
    "import os\n",
    "import pandas as pd\n",
    "from collections import defaultdict\n",
    "\n",
    "bg_file = \"/home2/s439906/project/CASP16/oligomer/stoich_bg_distribution.csv\"\n"
   ]
  },
  {
   "cell_type": "code",
   "execution_count": null,
   "metadata": {},
   "outputs": [],
   "source": [
    "# 创建 DataFrame\n",
    "df_corrected = pd.read_csv(bg_file)\n",
    "\n",
    "# 添加链的数量列\n",
    "df_corrected['chain_count'] = df_corrected['stoichiometry'].apply(lambda x: len(x.split(',')))\n",
    "\n",
    "# 使用正则表达式提取并按降序排列数字部分\n",
    "def extract_and_sort_numbers(stoichiometry):\n",
    "    numbers = [int(num) for num in re.findall(r'\\d+', stoichiometry)]\n",
    "    sorted_numbers = sorted(numbers, reverse=True)\n",
    "    return tuple(sorted_numbers)\n",
    "\n",
    "# 应用该函数以创建新列 'sorted_numbers'\n",
    "df_corrected['sorted_numbers'] = df_corrected['stoichiometry'].apply(extract_and_sort_numbers)\n",
    "\n",
    "# 显示处理后的 DataFrame\n",
    "# import ace_tools as tools; tools.display_dataframe_to_user(name=\"Stoichiometry with Sorted Numbers (Final)\", dataframe=df_corrected)\n",
    "\n",
    "df_corrected"
   ]
  },
  {
   "cell_type": "code",
   "execution_count": null,
   "metadata": {},
   "outputs": [],
   "source": [
    "# 按 chain_count 分组数据\n",
    "unique_chain_counts = {chain_count: df_corrected[df_corrected['chain_count'] == chain_count] \n",
    "                       for chain_count in df_corrected['chain_count'].unique()}\n",
    "unique_chain_counts"
   ]
  },
  {
   "cell_type": "code",
   "execution_count": null,
   "metadata": {},
   "outputs": [],
   "source": [
    "# 初始化字典来存储结果\n",
    "chain_count_analysis = defaultdict(dict)\n",
    "\n",
    "# 对每个 chain_count 分组，然后对 sorted_numbers 聚合\n",
    "for chain_count, group in df_corrected.groupby('chain_count'):\n",
    "    # 计算每种 unique sorted_numbers 的总和\n",
    "    sorted_number_counts = group.groupby('sorted_numbers')['count'].sum()\n",
    "    chain_count_analysis[chain_count] = sorted_number_counts.to_dict()\n",
    "chain_count_analysis"
   ]
  },
  {
   "cell_type": "code",
   "execution_count": null,
   "metadata": {},
   "outputs": [],
   "source": [
    "chain_count_analysis = defaultdict(dict)\n",
    "# 对每个 chain_count 分组\n",
    "for chain_count, group in df_corrected.groupby('chain_count'):\n",
    "    # 计算每种 unique sorted_numbers 的计数总和\n",
    "    sorted_number_counts = group.groupby('sorted_numbers')['count'].sum()\n",
    "    \n",
    "    # 计算标准化比例\n",
    "    total_count = sorted_number_counts.sum()\n",
    "    normalized_counts = (sorted_number_counts / total_count).to_dict()\n",
    "    \n",
    "    chain_count_analysis[chain_count] = normalized_counts\n",
    "\n",
    "chain_count_analysis"
   ]
  },
  {
   "cell_type": "code",
   "execution_count": null,
   "metadata": {},
   "outputs": [],
   "source": [
    "stoichiometry_dir = \"/data/data1/conglab/jzhan6/CASP16/CASP16_scores/oligo_20240910/firstmodels/\"\n",
    "stoichiometry_files = [file for file in os.listdir(stoichiometry_dir) if file.endswith('.stoichiometry')]\n",
    "stoichiometry_files.__len__()"
   ]
  },
  {
   "cell_type": "code",
   "execution_count": null,
   "metadata": {},
   "outputs": [],
   "source": [
    "def count_unique_chains(stoichiometry):\n",
    "    # 提取所有字母（代表链的种类），并计算唯一字母的数量\n",
    "    unique_chains = set(char for char in stoichiometry if char.isalpha())\n",
    "    return len(unique_chains)"
   ]
  },
  {
   "cell_type": "code",
   "execution_count": null,
   "metadata": {},
   "outputs": [],
   "source": [
    "score_df_all = None\n",
    "for file in stoichiometry_files:\n",
    "    target = file.split('.')[0]\n",
    "    df = pd.read_csv(os.path.join(stoichiometry_dir, file), sep='\\t')\n",
    "    df['group_number'] = df['model'].apply(lambda x: re.search(r'TS\\d{3}', x).group(0) if re.search(r'TS\\d{3}', x) else None)\n",
    "    df['sorted_numbers'] = df['truth'].apply(extract_and_sort_numbers)\n",
    "    df['chain_count'] = df['truth'].apply(count_unique_chains)\n",
    "    first_sorted_numbers = df['sorted_numbers'].iloc[0]\n",
    "    first_chain_count = df['chain_count'].iloc[0]\n",
    "    bg_prob = chain_count_analysis[first_chain_count][first_sorted_numbers]\n",
    "    score = 1 - bg_prob # if the probability is low, then the score awarded should be high\n",
    "    df['score'] = df['match_status'].apply(\n",
    "        lambda x: score if x == \"yes\" else 0\n",
    "    )\n",
    "\n",
    "    score_df = df[['group_number', 'score']]\n",
    "    score_df.set_index('group_number', inplace=True)\n",
    "    # rename the column to the target name\n",
    "    score_df.columns = [target]\n",
    "\n",
    "    if score_df_all is None:\n",
    "        score_df_all = score_df\n",
    "    else:\n",
    "        score_df_all = pd.concat([score_df_all, score_df], axis=1)\n",
    "\n",
    "\n",
    "df\n",
    "score_df\n",
    "score_df_all"
   ]
  },
  {
   "cell_type": "code",
   "execution_count": null,
   "metadata": {},
   "outputs": [],
   "source": [
    "mask = score_df_all.isna()\n",
    "# sort columns alphabetically\n",
    "score_df_all = score_df_all.reindex(sorted(score_df_all.columns), axis=1)\n",
    "# impute missing values with 0\n",
    "score_df_all.fillna(0, inplace=True)\n",
    "# sum the scores for each row\n",
    "score_df_all['total_score'] = score_df_all.sum(axis=1)\n",
    "# sort the dataframe by total_score\n",
    "score_df_all.sort_values('total_score', ascending=False, inplace=True)\n",
    "score_df_all"
   ]
  },
  {
   "cell_type": "code",
   "execution_count": null,
   "metadata": {},
   "outputs": [],
   "source": [
    "# plot the total scores as bar plot\n",
    "import matplotlib.pyplot as plt\n",
    "plt.figure(figsize=(16, 6), dpi=300)\n",
    "plt.bar(score_df_all.index, score_df_all['total_score'])\n",
    "plt.xlabel('Group Number', fontsize=16)\n",
    "plt.ylabel('Total Score', fontsize=16)\n",
    "# rotate the x-axis labels by 90 degrees\n",
    "plt.xticks(rotation=45, fontsize=10, ha='right')\n",
    "plt.yticks(fontsize=10)\n",
    "plt.title('Total Scores for stoichiometry for each Group', fontsize=20)\n",
    "plt.show()\n",
    "\n"
   ]
  },
  {
   "cell_type": "code",
   "execution_count": null,
   "metadata": {},
   "outputs": [],
   "source": [
    "import seaborn as sns\n",
    "from matplotlib.gridspec import GridSpec\n",
    "from matplotlib.colors import ListedColormap\n",
    "import numpy as np\n",
    "# drop the total_score column\n",
    "score_df_all.drop(columns='total_score', inplace=True)\n"
   ]
  },
  {
   "cell_type": "code",
   "execution_count": null,
   "metadata": {},
   "outputs": [],
   "source": [
    "sum = score_df_all.sum(axis=1)\n",
    "sorted_indices = sum.sort_values(ascending=True).index\n",
    "sorted_heatmap_data = score_df_all.loc[sorted_indices].reset_index(\n",
    "    drop=True)\n",
    "sorted_sum = sum.loc[sorted_indices].reset_index(drop=True)\n",
    "sorted_mask = pd.DataFrame(\n",
    "    mask, index=score_df_all.index).loc[sorted_indices].reset_index(drop=True)\n",
    "# use mask to mask the data. will be used for heatmap\n",
    "masked_data = sorted_heatmap_data.copy()\n",
    "masked_data[sorted_mask] = np.nan\n",
    "# set up the colormap\n",
    "cmap = plt.cm.YlGn\n",
    "cmap = ListedColormap(cmap(np.linspace(0, 1, 256)))\n",
    "cmap.set_bad(color='gray')  # set the masked area to gray\n",
    "# set up the figure and gridspec\n",
    "fig = plt.figure(figsize=(24, 18), dpi=300)\n",
    "gs = GridSpec(1, 2, width_ratios=[4, 1], wspace=0.3)\n",
    "# plot the heatmap\n",
    "ax0 = fig.add_subplot(gs[0])\n",
    "sns.heatmap(masked_data, cmap=cmap, cbar=True, ax=ax0)\n",
    "ax0.set_yticklabels(\n",
    "    [f'{i}' for i in sorted_indices], rotation=0)  # use the same order as the row sum\n",
    "ax0.set_xticklabels(sorted_heatmap_data.columns, rotation=90)\n",
    "# set x tick font size\n",
    "ax0.tick_params(axis='x', labelsize=16)\n",
    "# set y tick font size\n",
    "ax0.tick_params(axis='y', labelsize=16)\n",
    "# set the font size of the colorbar\n",
    "cbar = ax0.collections[0].colorbar\n",
    "cbar.ax.tick_params(labelsize=16)\n",
    "\n",
    "ax0.set_title(\n",
    "    \"Heatmap for scores of stoichiometry\", fontsize=20)\n",
    "# plot the row sum\n",
    "ax1 = fig.add_subplot(gs[1], sharey=ax0)\n",
    "y_pos = range(len(sorted_sum))\n",
    "y_pos = [i+0.5 for i in y_pos]  # change the position of the bars\n",
    "ax1.barh(y_pos, sorted_sum, color='tan')\n",
    "# ax1.margins(y=0.5)\n",
    "ax1.set_yticks(range(len(sorted_sum)))\n",
    "ax1.set_yticklabels(\n",
    "    [f'{i}' for i in sorted_indices], rotation=0)  # use the same order as the heatmap\n",
    "# ax1.spines['bottom'].set_position(('outward', 10))  # 将 x 轴向下移动 10 点\n",
    "# ymin, ymax = ax1.get_ylim()  # 获取当前的 y 轴范围\n",
    "# ax1.set_ylim(ymin - 1, ymax-1)  # 为最底部条形预留空间\n",
    "# set x tick font size\n",
    "ax1.tick_params(axis='x', labelsize=16)\n",
    "# set y tick font size\n",
    "ax1.tick_params(axis='y', labelsize=16)\n",
    "ax1.invert_yaxis()  # flip the y-axis\n",
    "ax1.set_xlabel(\"Sum\", fontsize=16)\n",
    "ax1.set_title(\"Group sum scores\", fontsize=20)"
   ]
  }
 ],
 "metadata": {
  "kernelspec": {
   "display_name": "base",
   "language": "python",
   "name": "python3"
  },
  "language_info": {
   "codemirror_mode": {
    "name": "ipython",
    "version": 3
   },
   "file_extension": ".py",
   "mimetype": "text/x-python",
   "name": "python",
   "nbconvert_exporter": "python",
   "pygments_lexer": "ipython3",
   "version": "3.8.3"
  }
 },
 "nbformat": 4,
 "nbformat_minor": 2
}
