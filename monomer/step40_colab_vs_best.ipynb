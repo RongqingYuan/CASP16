{
 "cells": [
  {
   "cell_type": "code",
   "execution_count": null,
   "metadata": {},
   "outputs": [],
   "source": [
    "import os\n",
    "import matplotlib.pyplot as plt\n",
    "import pandas as pd\n",
    "import sys\n",
    "import pdb"
   ]
  },
  {
   "cell_type": "code",
   "execution_count": null,
   "metadata": {},
   "outputs": [],
   "source": [
    "pd.set_option('display.max_rows', 100)\n",
    "pd.set_option('display.max_columns', 100)\n",
    "pd.set_option('display.width', 1000)\n",
    "pd.set_option('display.max_columns', None)\n",
    "pd.set_option('display.expand_frame_repr', False)"
   ]
  },
  {
   "cell_type": "code",
   "execution_count": null,
   "metadata": {},
   "outputs": [],
   "source": [
    "measure = \"GDT_TS\"\n",
    "measure = \"GDT_HA\"\n",
    "\n",
    "# model = \"first\"\n",
    "model = \"best\"\n",
    "\n",
    "# mode = \"easy\"\n",
    "# mode = \"medium\"\n",
    "# mode = \"hard\"\n",
    "mode = \"all\"\n",
    "\n",
    "impute_value = -2\n",
    "\n",
    "sys.path.append('/home2/s439906/project/CASP16/monomer/')\n",
    "os.chdir('/home2/s439906/project/CASP16/monomer/')"
   ]
  },
  {
   "cell_type": "code",
   "execution_count": null,
   "metadata": {},
   "outputs": [],
   "source": [
    "T1_score_path = \"./group_by_target_EU/\"\n",
    "T1_score_file = f\"{measure}-{model}-{mode}-raw.csv\"\n",
    "T1_data = pd.read_csv(T1_score_path + T1_score_file, index_col=0)"
   ]
  },
  {
   "cell_type": "code",
   "execution_count": null,
   "metadata": {},
   "outputs": [],
   "source": [
    "T1_data"
   ]
  },
  {
   "cell_type": "code",
   "execution_count": null,
   "metadata": {},
   "outputs": [],
   "source": [
    "# get the TS145 score and the highest score for each column\n",
    "TS145 = T1_data.loc[\"TS145\"]\n",
    "highest = T1_data.max()\n",
    "highest\n",
    "# get the difference between the TS145 and the highest score\n",
    "diff = TS145 - highest\n",
    "# remove nan values\n",
    "diff = diff.dropna()\n",
    "diff.shape\n"
   ]
  },
  {
   "cell_type": "code",
   "execution_count": null,
   "metadata": {},
   "outputs": [],
   "source": [
    "# sort the difference in descending order\n",
    "diff = diff.sort_values(ascending=False)\n",
    "\n",
    "diff"
   ]
  },
  {
   "cell_type": "code",
   "execution_count": null,
   "metadata": {},
   "outputs": [],
   "source": [
    "# plot the difference as bar plot\n",
    "plt.figure(figsize=(15, 5), dpi=300)\n",
    "plt.bar(diff.index, diff)\n",
    "plt.xticks(rotation=45, ha='right')\n",
    "plt.title(f\"Difference between ColabFold and the highest score for {measure}\")\n",
    "plt.show()"
   ]
  },
  {
   "cell_type": "code",
   "execution_count": null,
   "metadata": {},
   "outputs": [],
   "source": [
    "# count how many times each group get the highest score in each column of T1_data\n",
    "# Iterate through each column and add to the count for rows with the maximum value in that column\n",
    "highest_count = pd.Series(0, index=T1_data.index)\n",
    "for col in T1_data.columns:\n",
    "    max_value = T1_data[col].max()  # Find the maximum value in the column\n",
    "    highest_count += (T1_data[col] == max_value)  # Add 1 to rows with the max value\n",
    "\n",
    "print(highest_count)\n",
    "# sort the count in descending order\n",
    "highest_count = highest_count.sort_values(ascending=False)\n",
    "highest_count=highest_count.to_dict()\n",
    "highest_count"
   ]
  },
  {
   "cell_type": "code",
   "execution_count": null,
   "metadata": {},
   "outputs": [],
   "source": [
    "# plot highest_count\n",
    "plt.figure(figsize=(15, 5), dpi=300)\n",
    "plt.bar(highest_count.keys(), highest_count.values())\n",
    "plt.xticks(rotation=90,fontsize=8)\n",
    "plt.title(f\"Number of times each group get the highest score for {measure}\")\n",
    "plt.show()\n"
   ]
  }
 ],
 "metadata": {
  "kernelspec": {
   "display_name": "base",
   "language": "python",
   "name": "python3"
  },
  "language_info": {
   "codemirror_mode": {
    "name": "ipython",
    "version": 3
   },
   "file_extension": ".py",
   "mimetype": "text/x-python",
   "name": "python",
   "nbconvert_exporter": "python",
   "pygments_lexer": "ipython3",
   "version": "3.8.3"
  }
 },
 "nbformat": 4,
 "nbformat_minor": 2
}
