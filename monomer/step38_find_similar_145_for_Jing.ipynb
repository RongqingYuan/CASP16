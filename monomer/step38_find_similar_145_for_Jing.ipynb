{
 "cells": [
  {
   "cell_type": "code",
   "execution_count": null,
   "metadata": {},
   "outputs": [],
   "source": [
    "import sys\n",
    "import matplotlib.pyplot as plt\n",
    "import pandas as pd\n",
    "import os"
   ]
  },
  {
   "cell_type": "code",
   "execution_count": null,
   "metadata": {},
   "outputs": [],
   "source": [
    "os.chdir(\"/home2/s439906/project/CASP16/monomer\")"
   ]
  },
  {
   "cell_type": "code",
   "execution_count": null,
   "metadata": {},
   "outputs": [],
   "source": [
    "file = \"./group_by_target_EU/GDT_TS-best-all-raw.csv\"\n",
    "GDT_TS = pd.read_csv(file, index_col=0)\n",
    "GDT_TS"
   ]
  },
  {
   "cell_type": "code",
   "execution_count": null,
   "metadata": {},
   "outputs": [],
   "source": [
    "GDT_TS = GDT_TS[GDT_TS.isna().sum(axis=1) < 0.5 * GDT_TS.shape[1]]\n",
    "# print(data_raw.isna().sum(axis=0)/data_raw.shape[0])\n",
    "# print(data_raw.isna().sum(axis=1)/data_raw.shape[1])\n",
    "# for each row, get its non-nan values in intersection with \"TS145\", and calculate the sum of the non-nan values\n",
    "# then divide the sum of the non-nan values by the sum of \"TS145\" to get the normalized sum\n",
    "# then plot the normalized sum\n",
    "GDT_TS = GDT_TS.T\n",
    "\n",
    "groups = GDT_TS.columns\n",
    "baseline_group = pd.DataFrame(GDT_TS[\"TS145\"])\n",
    "baseline_dict = {}\n",
    "for group in groups:\n",
    "    data_raw_group = pd.DataFrame(GDT_TS[group])\n",
    "    # get the intersection of non nan values in data_raw_group and baseline_group\n",
    "    non_nan_baseline = baseline_group[pd.notna(baseline_group[\"TS145\"])].index\n",
    "    non_nan_group = data_raw_group[pd.notna(data_raw_group[group])].index\n",
    "    # 计算两者的交集\n",
    "    intersection_index = non_nan_baseline.intersection(non_nan_group)\n",
    "    # 根据 intersection_index 获取对应的值\n",
    "    baseline_values = baseline_group.loc[intersection_index, \"TS145\"]\n",
    "    group_values = data_raw_group.loc[intersection_index, group]\n",
    "\n",
    "    # compute the difference between the group and the baseline and calculate the absolute value\n",
    "    diff = group_values - baseline_values\n",
    "    diff_abs = diff.abs()\n",
    "    # calculate the sum of the absolute values and then take the mean\n",
    "    mean_diff_abs = diff_abs.mean()\n",
    "    baseline_dict[group] = mean_diff_abs\n"
   ]
  },
  {
   "cell_type": "code",
   "execution_count": null,
   "metadata": {},
   "outputs": [],
   "source": [
    "# sort the dictionary by values\n",
    "baseline_dict = dict(sorted(baseline_dict.items(), key=lambda item: item[1]))\n",
    "baseline_dict"
   ]
  }
 ],
 "metadata": {
  "kernelspec": {
   "display_name": "base",
   "language": "python",
   "name": "python3"
  },
  "language_info": {
   "codemirror_mode": {
    "name": "ipython",
    "version": 3
   },
   "file_extension": ".py",
   "mimetype": "text/x-python",
   "name": "python",
   "nbconvert_exporter": "python",
   "pygments_lexer": "ipython3",
   "version": "3.8.3"
  }
 },
 "nbformat": 4,
 "nbformat_minor": 2
}
