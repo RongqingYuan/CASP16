{
 "cells": [
  {
   "cell_type": "code",
   "execution_count": null,
   "metadata": {},
   "outputs": [],
   "source": [
    "import os"
   ]
  },
  {
   "cell_type": "code",
   "execution_count": null,
   "metadata": {},
   "outputs": [],
   "source": [
    "os.chdir(\"/home2/s439906/project/CASP16/monomer/\")"
   ]
  },
  {
   "cell_type": "code",
   "execution_count": null,
   "metadata": {},
   "outputs": [],
   "source": []
  },
  {
   "cell_type": "code",
   "execution_count": null,
   "metadata": {},
   "outputs": [],
   "source": [
    "dir = \"./heatmap_GDT_TS/\"\n",
    "ours_file = \"group_sum_custom_best_all_impute=-2.csv\"\n",
    "ours_dict = {}\n",
    "with open(dir+ours_file, \"r\") as f:\n",
    "    for line in f:\n",
    "        if line.startswith(\"TS\"):\n",
    "            line = line.strip().split(\",\")\n",
    "            group = line[0].replace(\"TS\", \"\")\n",
    "            score = line[1]\n",
    "            ours_dict[group] = score\n",
    "ours_dict\n",
    "server_file=\"server_score.txt\"\n",
    "server_dict = {}\n",
    "with open(dir+server_file, \"r\") as f:\n",
    "    for line in f:\n",
    "        line = line.strip().split()\n",
    "        group = line[1]\n",
    "        score = line[3]\n",
    "        server_dict[group] = score\n",
    "server_dict\n",
    "# compute the correlation\n",
    "# first get the common groups\n",
    "common_groups = set(ours_dict.keys()) & set(server_dict.keys())\n",
    "\n",
    "ours = []\n",
    "server = []\n",
    "for group in common_groups:\n",
    "    ours.append(float(ours_dict[group]))\n",
    "    server.append(float(server_dict[group]))\n",
    "print(len(ours), len(server))\n",
    "\n",
    "# compute the correlation\n",
    "import numpy as np\n",
    "ours = np.array(ours)\n",
    "server = np.array(server)\n",
    "np.corrcoef(ours, server)"
   ]
  },
  {
   "cell_type": "code",
   "execution_count": null,
   "metadata": {},
   "outputs": [],
   "source": [
    "# plot our score vs server score\n",
    "import matplotlib.pyplot as plt\n",
    "plt.scatter(ours, server)\n",
    "plt.xlabel(\"Our score\")\n",
    "plt.ylabel(\"Server score\")\n",
    "plt.show()\n"
   ]
  },
  {
   "cell_type": "code",
   "execution_count": null,
   "metadata": {},
   "outputs": [],
   "source": []
  },
  {
   "cell_type": "code",
   "execution_count": null,
   "metadata": {},
   "outputs": [],
   "source": []
  },
  {
   "cell_type": "code",
   "execution_count": null,
   "metadata": {},
   "outputs": [],
   "source": [
    "dir = \"./heatmap_QSE/\""
   ]
  },
  {
   "cell_type": "code",
   "execution_count": null,
   "metadata": {},
   "outputs": [],
   "source": [
    "ours_file = \"group_sum_custom_best_all_impute=-2.csv\"\n",
    "ours_dict = {}\n",
    "with open(dir+ours_file, \"r\") as f:\n",
    "    for line in f:\n",
    "        if line.startswith(\"TS\"):\n",
    "            line = line.strip().split(\",\")\n",
    "            group = line[0].replace(\"TS\", \"\")\n",
    "            score = line[1]\n",
    "            ours_dict[group] = score\n",
    "ours_dict"
   ]
  },
  {
   "cell_type": "code",
   "execution_count": null,
   "metadata": {},
   "outputs": [],
   "source": [
    "server_file=\"server_score.txt\"\n",
    "server_dict = {}\n",
    "with open(dir+server_file, \"r\") as f:\n",
    "    for line in f:\n",
    "        line = line.strip().split()\n",
    "        group = line[1]\n",
    "        score = line[3]\n",
    "        server_dict[group] = score\n",
    "server_dict"
   ]
  },
  {
   "cell_type": "code",
   "execution_count": null,
   "metadata": {},
   "outputs": [],
   "source": [
    "# compute the correlation\n",
    "# first get the common groups\n",
    "common_groups = set(ours_dict.keys()) & set(server_dict.keys())\n",
    "\n",
    "ours = []\n",
    "server = []\n",
    "for group in common_groups:\n",
    "    ours.append(float(ours_dict[group]))\n",
    "    server.append(float(server_dict[group]))\n",
    "print(len(ours), len(server))\n",
    "\n",
    "# compute the correlation\n",
    "import numpy as np\n",
    "ours = np.array(ours)\n",
    "server = np.array(server)\n",
    "np.corrcoef(ours, server)"
   ]
  },
  {
   "cell_type": "code",
   "execution_count": null,
   "metadata": {},
   "outputs": [],
   "source": [
    "ours"
   ]
  },
  {
   "cell_type": "code",
   "execution_count": null,
   "metadata": {},
   "outputs": [],
   "source": [
    "server"
   ]
  },
  {
   "cell_type": "code",
   "execution_count": null,
   "metadata": {},
   "outputs": [],
   "source": [
    "# plot our score vs server score\n",
    "import matplotlib.pyplot as plt\n",
    "plt.scatter(ours, server)\n",
    "plt.xlabel(\"Our score\")\n",
    "plt.ylabel(\"Server score\")\n",
    "plt.show()\n"
   ]
  },
  {
   "cell_type": "code",
   "execution_count": null,
   "metadata": {},
   "outputs": [],
   "source": [
    "dir = \"./heatmap_MolPrb_Score/\"\n",
    "ours_file = \"group_sum_custom_best_all_impute=-2.csv\"\n",
    "ours_dict = {}\n",
    "with open(dir+ours_file, \"r\") as f:\n",
    "    for line in f:\n",
    "        if line.startswith(\"TS\"):\n",
    "            line = line.strip().split(\",\")\n",
    "            group = line[0].replace(\"TS\", \"\")\n",
    "            score = line[1]\n",
    "            ours_dict[group] = score\n",
    "ours_dict\n",
    "server_file=\"server_score.txt\"\n",
    "server_dict = {}\n",
    "with open(dir+server_file, \"r\") as f:\n",
    "    for line in f:\n",
    "        line = line.strip().split()\n",
    "        group = line[1]\n",
    "        score = line[3]\n",
    "        server_dict[group] = score\n",
    "server_dict\n",
    "# compute the correlation\n",
    "# first get the common groups\n",
    "common_groups = set(ours_dict.keys()) & set(server_dict.keys())\n",
    "\n",
    "ours = []\n",
    "server = []\n",
    "for group in common_groups:\n",
    "    ours.append(float(ours_dict[group]))\n",
    "    server.append(float(server_dict[group]))\n",
    "print(len(ours), len(server))\n",
    "\n",
    "# compute the correlation\n",
    "import numpy as np\n",
    "ours = np.array(ours)\n",
    "server = np.array(server)\n",
    "np.corrcoef(ours, server)"
   ]
  }
 ],
 "metadata": {
  "kernelspec": {
   "display_name": "base",
   "language": "python",
   "name": "python3"
  },
  "language_info": {
   "codemirror_mode": {
    "name": "ipython",
    "version": 3
   },
   "file_extension": ".py",
   "mimetype": "text/x-python",
   "name": "python",
   "nbconvert_exporter": "python",
   "pygments_lexer": "ipython3",
   "version": "3.8.3"
  }
 },
 "nbformat": 4,
 "nbformat_minor": 2
}
